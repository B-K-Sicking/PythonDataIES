{
 "cells": [
  {
   "cell_type": "code",
   "execution_count": 1,
   "metadata": {},
   "outputs": [],
   "source": [
    "%matplotlib inline\n",
    "import pandas as pd\n",
    "import seaborn as sns\n",
    "import math\n",
    "import matplotlib.pyplot as plt\n",
    "import scipy.stats as stats\n",
    "import numpy as np"
   ]
  },
  {
   "cell_type": "markdown",
   "metadata": {},
   "source": [
    "Number 1"
   ]
  },
  {
   "cell_type": "code",
   "execution_count": 5,
   "metadata": {},
   "outputs": [],
   "source": [
    "df_ACGL = pd.read_csv('./ACGL.csv')\n",
    "df_DOW = pd.read_csv('./DOW.csv')\n",
    "df_EXR = pd.read_csv('./EXR.csv')\n",
    "df_TMUS = pd.read_csv('./TMUS.csv')\n",
    "df_UNP = pd.read_csv('./UNP.csv')"
   ]
  },
  {
   "cell_type": "code",
   "execution_count": 19,
   "metadata": {},
   "outputs": [
    {
     "data": {
      "text/html": [
       "<div>\n",
       "<style scoped>\n",
       "    .dataframe tbody tr th:only-of-type {\n",
       "        vertical-align: middle;\n",
       "    }\n",
       "\n",
       "    .dataframe tbody tr th {\n",
       "        vertical-align: top;\n",
       "    }\n",
       "\n",
       "    .dataframe thead th {\n",
       "        text-align: right;\n",
       "    }\n",
       "</style>\n",
       "<table border=\"1\" class=\"dataframe\">\n",
       "  <thead>\n",
       "    <tr style=\"text-align: right;\">\n",
       "      <th></th>\n",
       "      <th>Date</th>\n",
       "      <th>High</th>\n",
       "      <th>Low</th>\n",
       "      <th>Open</th>\n",
       "      <th>Close</th>\n",
       "      <th>Volume</th>\n",
       "      <th>Adj Close</th>\n",
       "    </tr>\n",
       "  </thead>\n",
       "  <tbody>\n",
       "    <tr>\n",
       "      <th>0</th>\n",
       "      <td>2019-03-20</td>\n",
       "      <td>53.500000</td>\n",
       "      <td>49.500000</td>\n",
       "      <td>52.750000</td>\n",
       "      <td>49.799999</td>\n",
       "      <td>2350800.0</td>\n",
       "      <td>42.358807</td>\n",
       "    </tr>\n",
       "    <tr>\n",
       "      <th>1</th>\n",
       "      <td>2019-03-21</td>\n",
       "      <td>50.000000</td>\n",
       "      <td>48.200001</td>\n",
       "      <td>49.990002</td>\n",
       "      <td>48.980000</td>\n",
       "      <td>1764700.0</td>\n",
       "      <td>41.661324</td>\n",
       "    </tr>\n",
       "    <tr>\n",
       "      <th>2</th>\n",
       "      <td>2019-03-22</td>\n",
       "      <td>49.950001</td>\n",
       "      <td>48.160000</td>\n",
       "      <td>48.799999</td>\n",
       "      <td>48.599998</td>\n",
       "      <td>844700.0</td>\n",
       "      <td>41.338104</td>\n",
       "    </tr>\n",
       "    <tr>\n",
       "      <th>3</th>\n",
       "      <td>2019-03-25</td>\n",
       "      <td>49.400002</td>\n",
       "      <td>48.000000</td>\n",
       "      <td>48.599998</td>\n",
       "      <td>49.150002</td>\n",
       "      <td>440900.0</td>\n",
       "      <td>41.805935</td>\n",
       "    </tr>\n",
       "    <tr>\n",
       "      <th>4</th>\n",
       "      <td>2019-03-26</td>\n",
       "      <td>49.750000</td>\n",
       "      <td>48.180000</td>\n",
       "      <td>49.000000</td>\n",
       "      <td>48.849998</td>\n",
       "      <td>504700.0</td>\n",
       "      <td>41.550755</td>\n",
       "    </tr>\n",
       "    <tr>\n",
       "      <th>...</th>\n",
       "      <td>...</td>\n",
       "      <td>...</td>\n",
       "      <td>...</td>\n",
       "      <td>...</td>\n",
       "      <td>...</td>\n",
       "      <td>...</td>\n",
       "      <td>...</td>\n",
       "    </tr>\n",
       "    <tr>\n",
       "      <th>917</th>\n",
       "      <td>2022-11-07</td>\n",
       "      <td>49.529999</td>\n",
       "      <td>48.310001</td>\n",
       "      <td>48.990002</td>\n",
       "      <td>49.500000</td>\n",
       "      <td>5849000.0</td>\n",
       "      <td>49.500000</td>\n",
       "    </tr>\n",
       "    <tr>\n",
       "      <th>918</th>\n",
       "      <td>2022-11-08</td>\n",
       "      <td>50.349998</td>\n",
       "      <td>49.450001</td>\n",
       "      <td>49.889999</td>\n",
       "      <td>49.650002</td>\n",
       "      <td>4739700.0</td>\n",
       "      <td>49.650002</td>\n",
       "    </tr>\n",
       "    <tr>\n",
       "      <th>919</th>\n",
       "      <td>2022-11-09</td>\n",
       "      <td>49.389999</td>\n",
       "      <td>47.570000</td>\n",
       "      <td>49.349998</td>\n",
       "      <td>47.680000</td>\n",
       "      <td>5089900.0</td>\n",
       "      <td>47.680000</td>\n",
       "    </tr>\n",
       "    <tr>\n",
       "      <th>920</th>\n",
       "      <td>2022-11-10</td>\n",
       "      <td>50.020000</td>\n",
       "      <td>49.119999</td>\n",
       "      <td>49.450001</td>\n",
       "      <td>49.959999</td>\n",
       "      <td>6592000.0</td>\n",
       "      <td>49.959999</td>\n",
       "    </tr>\n",
       "    <tr>\n",
       "      <th>921</th>\n",
       "      <td>2022-11-11</td>\n",
       "      <td>53.439999</td>\n",
       "      <td>50.900002</td>\n",
       "      <td>51.000000</td>\n",
       "      <td>53.139999</td>\n",
       "      <td>9009200.0</td>\n",
       "      <td>53.139999</td>\n",
       "    </tr>\n",
       "  </tbody>\n",
       "</table>\n",
       "<p>922 rows × 7 columns</p>\n",
       "</div>"
      ],
      "text/plain": [
       "           Date       High        Low       Open      Close     Volume  \\\n",
       "0    2019-03-20  53.500000  49.500000  52.750000  49.799999  2350800.0   \n",
       "1    2019-03-21  50.000000  48.200001  49.990002  48.980000  1764700.0   \n",
       "2    2019-03-22  49.950001  48.160000  48.799999  48.599998   844700.0   \n",
       "3    2019-03-25  49.400002  48.000000  48.599998  49.150002   440900.0   \n",
       "4    2019-03-26  49.750000  48.180000  49.000000  48.849998   504700.0   \n",
       "..          ...        ...        ...        ...        ...        ...   \n",
       "917  2022-11-07  49.529999  48.310001  48.990002  49.500000  5849000.0   \n",
       "918  2022-11-08  50.349998  49.450001  49.889999  49.650002  4739700.0   \n",
       "919  2022-11-09  49.389999  47.570000  49.349998  47.680000  5089900.0   \n",
       "920  2022-11-10  50.020000  49.119999  49.450001  49.959999  6592000.0   \n",
       "921  2022-11-11  53.439999  50.900002  51.000000  53.139999  9009200.0   \n",
       "\n",
       "     Adj Close  \n",
       "0    42.358807  \n",
       "1    41.661324  \n",
       "2    41.338104  \n",
       "3    41.805935  \n",
       "4    41.550755  \n",
       "..         ...  \n",
       "917  49.500000  \n",
       "918  49.650002  \n",
       "919  47.680000  \n",
       "920  49.959999  \n",
       "921  53.139999  \n",
       "\n",
       "[922 rows x 7 columns]"
      ]
     },
     "execution_count": 19,
     "metadata": {},
     "output_type": "execute_result"
    }
   ],
   "source": [
    "df_DOW"
   ]
  },
  {
   "cell_type": "code",
   "execution_count": 29,
   "metadata": {},
   "outputs": [],
   "source": [
    "dif_ACGL = df_ACGL['Close'] - df_ACGL['Adj Close']\n",
    "dif_DOW = df_DOW['Close'] - df_DOW['Adj Close']\n",
    "dif_EXR = df_EXR['Close'] - df_EXR['Adj Close']\n",
    "dif_TMUS = df_TMUS['Close'] - df_TMUS['Adj Close']\n",
    "dif_UNP = df_UNP['Close'] - df_UNP['Adj Close']"
   ]
  },
  {
   "cell_type": "code",
   "execution_count": 30,
   "metadata": {},
   "outputs": [],
   "source": [
    "for i in dif_ACGL:\n",
    "    if dif_ACGL[i] != 0: \n",
    "        print('Difference')                    "
   ]
  },
  {
   "cell_type": "markdown",
   "metadata": {},
   "source": [
    "ACGL has no differences between Close and Adj Close"
   ]
  },
  {
   "cell_type": "code",
   "execution_count": 32,
   "metadata": {},
   "outputs": [
    {
     "data": {
      "text/plain": [
       "58.400001525878906"
      ]
     },
     "execution_count": 32,
     "metadata": {},
     "output_type": "execute_result"
    }
   ],
   "source": [
    "df_ACGL['Adj Close'].max()"
   ]
  },
  {
   "cell_type": "code",
   "execution_count": 33,
   "metadata": {},
   "outputs": [
    {
     "data": {
      "text/plain": [
       "22.239999771118164"
      ]
     },
     "execution_count": 33,
     "metadata": {},
     "output_type": "execute_result"
    }
   ],
   "source": [
    "df_ACGL['Adj Close'].min()"
   ]
  },
  {
   "cell_type": "code",
   "execution_count": 34,
   "metadata": {},
   "outputs": [
    {
     "data": {
      "text/plain": [
       "70.61000061035156"
      ]
     },
     "execution_count": 34,
     "metadata": {},
     "output_type": "execute_result"
    }
   ],
   "source": [
    "df_DOW['Adj Close'].max()"
   ]
  },
  {
   "cell_type": "code",
   "execution_count": 35,
   "metadata": {},
   "outputs": [
    {
     "data": {
      "text/plain": [
       "19.87366104125977"
      ]
     },
     "execution_count": 35,
     "metadata": {},
     "output_type": "execute_result"
    }
   ],
   "source": [
    "df_DOW['Adj Close'].min()"
   ]
  },
  {
   "cell_type": "code",
   "execution_count": 36,
   "metadata": {},
   "outputs": [
    {
     "data": {
      "text/plain": [
       "226.72999572753903"
      ]
     },
     "execution_count": 36,
     "metadata": {},
     "output_type": "execute_result"
    }
   ],
   "source": [
    "df_EXR['Adj Close'].max()"
   ]
  },
  {
   "cell_type": "code",
   "execution_count": 37,
   "metadata": {},
   "outputs": [
    {
     "data": {
      "text/plain": [
       "67.9879379272461"
      ]
     },
     "execution_count": 37,
     "metadata": {},
     "output_type": "execute_result"
    }
   ],
   "source": [
    "df_EXR['Adj Close'].min()"
   ]
  },
  {
   "cell_type": "code",
   "execution_count": 38,
   "metadata": {},
   "outputs": [
    {
     "data": {
      "text/plain": [
       "152.27999877929688"
      ]
     },
     "execution_count": 38,
     "metadata": {},
     "output_type": "execute_result"
    }
   ],
   "source": [
    "df_TMUS['Adj Close'].max()"
   ]
  },
  {
   "cell_type": "code",
   "execution_count": 39,
   "metadata": {},
   "outputs": [
    {
     "data": {
      "text/plain": [
       "55.58000183105469"
      ]
     },
     "execution_count": 39,
     "metadata": {},
     "output_type": "execute_result"
    }
   ],
   "source": [
    "df_TMUS['Adj Close'].min()"
   ]
  },
  {
   "cell_type": "code",
   "execution_count": 40,
   "metadata": {},
   "outputs": [
    {
     "data": {
      "text/plain": [
       "276.69000244140625"
      ]
     },
     "execution_count": 40,
     "metadata": {},
     "output_type": "execute_result"
    }
   ],
   "source": [
    "df_UNP['Adj Close'].max()"
   ]
  },
  {
   "cell_type": "code",
   "execution_count": 41,
   "metadata": {},
   "outputs": [
    {
     "data": {
      "text/plain": [
       "105.29598236083984"
      ]
     },
     "execution_count": 41,
     "metadata": {},
     "output_type": "execute_result"
    }
   ],
   "source": [
    "df_UNP['Adj Close'].min()"
   ]
  },
  {
   "cell_type": "code",
   "execution_count": 48,
   "metadata": {},
   "outputs": [],
   "source": [
    "gain_ACGL = df_ACGL['Close'] - df_ACGL['Open']\n",
    "gain_DOW = df_DOW['Close'] - df_DOW['Open']\n",
    "gain_EXR = df_EXR['Close'] - df_EXR['Open']\n",
    "gain_TMUS = df_TMUS['Close'] - df_TMUS['Open']\n",
    "gain_UNP = df_UNP['Close'] - df_UNP['Open']"
   ]
  },
  {
   "cell_type": "code",
   "execution_count": 49,
   "metadata": {},
   "outputs": [
    {
     "ename": "KeyError",
     "evalue": "\"None of [Index([   0.2733325958251953, -0.053335189819332385,    0.3966655731201172,\\n         -0.3066673278808594,   0.22666740417480113,  -0.05333518981933594,\\n          0.3366661071777344,   -0.4666652679443395,  -0.07999992370605113,\\n         0.22000122070312855,\\n       ...\\n          1.1800003051757812,   -2.0800018310546946,    1.0500030517578125,\\n          0.6599998474121165,   0.04000091552734375,     0.979999542236321,\\n        -0.18999862670898438,   0.03000259399413352,  -0.37999725341797586,\\n         -2.0699996948242188],\\n      dtype='float64', length=1259)] are in the [columns]\"",
     "output_type": "error",
     "traceback": [
      "\u001b[1;31m---------------------------------------------------------------------------\u001b[0m",
      "\u001b[1;31mKeyError\u001b[0m                                  Traceback (most recent call last)",
      "\u001b[1;32mc:\\Users\\berni\\OneDrive\\Dokumente\\Python_Projects\\PythonDataIES\\exam.ipynb Cell 18\u001b[0m line \u001b[0;36m1\n\u001b[1;32m----> <a href='vscode-notebook-cell:/c%3A/Users/berni/OneDrive/Dokumente/Python_Projects/PythonDataIES/exam.ipynb#X25sZmlsZQ%3D%3D?line=0'>1</a>\u001b[0m df_ACGL[gain_ACGL]\u001b[39m.\u001b[39mmax()\n",
      "File \u001b[1;32mc:\\Users\\berni\\AppData\\Local\\Programs\\Python\\Python312\\Lib\\site-packages\\pandas\\core\\frame.py:3902\u001b[0m, in \u001b[0;36mDataFrame.__getitem__\u001b[1;34m(self, key)\u001b[0m\n\u001b[0;32m   3900\u001b[0m     \u001b[39mif\u001b[39;00m is_iterator(key):\n\u001b[0;32m   3901\u001b[0m         key \u001b[39m=\u001b[39m \u001b[39mlist\u001b[39m(key)\n\u001b[1;32m-> 3902\u001b[0m     indexer \u001b[39m=\u001b[39m \u001b[39mself\u001b[39;49m\u001b[39m.\u001b[39;49mcolumns\u001b[39m.\u001b[39;49m_get_indexer_strict(key, \u001b[39m\"\u001b[39;49m\u001b[39mcolumns\u001b[39;49m\u001b[39m\"\u001b[39;49m)[\u001b[39m1\u001b[39m]\n\u001b[0;32m   3904\u001b[0m \u001b[39m# take() does not accept boolean indexers\u001b[39;00m\n\u001b[0;32m   3905\u001b[0m \u001b[39mif\u001b[39;00m \u001b[39mgetattr\u001b[39m(indexer, \u001b[39m\"\u001b[39m\u001b[39mdtype\u001b[39m\u001b[39m\"\u001b[39m, \u001b[39mNone\u001b[39;00m) \u001b[39m==\u001b[39m \u001b[39mbool\u001b[39m:\n",
      "File \u001b[1;32mc:\\Users\\berni\\AppData\\Local\\Programs\\Python\\Python312\\Lib\\site-packages\\pandas\\core\\indexes\\base.py:6114\u001b[0m, in \u001b[0;36mIndex._get_indexer_strict\u001b[1;34m(self, key, axis_name)\u001b[0m\n\u001b[0;32m   6111\u001b[0m \u001b[39melse\u001b[39;00m:\n\u001b[0;32m   6112\u001b[0m     keyarr, indexer, new_indexer \u001b[39m=\u001b[39m \u001b[39mself\u001b[39m\u001b[39m.\u001b[39m_reindex_non_unique(keyarr)\n\u001b[1;32m-> 6114\u001b[0m \u001b[39mself\u001b[39;49m\u001b[39m.\u001b[39;49m_raise_if_missing(keyarr, indexer, axis_name)\n\u001b[0;32m   6116\u001b[0m keyarr \u001b[39m=\u001b[39m \u001b[39mself\u001b[39m\u001b[39m.\u001b[39mtake(indexer)\n\u001b[0;32m   6117\u001b[0m \u001b[39mif\u001b[39;00m \u001b[39misinstance\u001b[39m(key, Index):\n\u001b[0;32m   6118\u001b[0m     \u001b[39m# GH 42790 - Preserve name from an Index\u001b[39;00m\n",
      "File \u001b[1;32mc:\\Users\\berni\\AppData\\Local\\Programs\\Python\\Python312\\Lib\\site-packages\\pandas\\core\\indexes\\base.py:6175\u001b[0m, in \u001b[0;36mIndex._raise_if_missing\u001b[1;34m(self, key, indexer, axis_name)\u001b[0m\n\u001b[0;32m   6173\u001b[0m     \u001b[39mif\u001b[39;00m use_interval_msg:\n\u001b[0;32m   6174\u001b[0m         key \u001b[39m=\u001b[39m \u001b[39mlist\u001b[39m(key)\n\u001b[1;32m-> 6175\u001b[0m     \u001b[39mraise\u001b[39;00m \u001b[39mKeyError\u001b[39;00m(\u001b[39mf\u001b[39m\u001b[39m\"\u001b[39m\u001b[39mNone of [\u001b[39m\u001b[39m{\u001b[39;00mkey\u001b[39m}\u001b[39;00m\u001b[39m] are in the [\u001b[39m\u001b[39m{\u001b[39;00maxis_name\u001b[39m}\u001b[39;00m\u001b[39m]\u001b[39m\u001b[39m\"\u001b[39m)\n\u001b[0;32m   6177\u001b[0m not_found \u001b[39m=\u001b[39m \u001b[39mlist\u001b[39m(ensure_index(key)[missing_mask\u001b[39m.\u001b[39mnonzero()[\u001b[39m0\u001b[39m]]\u001b[39m.\u001b[39munique())\n\u001b[0;32m   6178\u001b[0m \u001b[39mraise\u001b[39;00m \u001b[39mKeyError\u001b[39;00m(\u001b[39mf\u001b[39m\u001b[39m\"\u001b[39m\u001b[39m{\u001b[39;00mnot_found\u001b[39m}\u001b[39;00m\u001b[39m not in index\u001b[39m\u001b[39m\"\u001b[39m)\n",
      "\u001b[1;31mKeyError\u001b[0m: \"None of [Index([   0.2733325958251953, -0.053335189819332385,    0.3966655731201172,\\n         -0.3066673278808594,   0.22666740417480113,  -0.05333518981933594,\\n          0.3366661071777344,   -0.4666652679443395,  -0.07999992370605113,\\n         0.22000122070312855,\\n       ...\\n          1.1800003051757812,   -2.0800018310546946,    1.0500030517578125,\\n          0.6599998474121165,   0.04000091552734375,     0.979999542236321,\\n        -0.18999862670898438,   0.03000259399413352,  -0.37999725341797586,\\n         -2.0699996948242188],\\n      dtype='float64', length=1259)] are in the [columns]\""
     ]
    }
   ],
   "source": [
    "df_ACGL[gain_ACGL].max()"
   ]
  },
  {
   "cell_type": "code",
   "execution_count": 51,
   "metadata": {},
   "outputs": [
    {
     "data": {
      "text/plain": [
       "1829874.900714853"
      ]
     },
     "execution_count": 51,
     "metadata": {},
     "output_type": "execute_result"
    }
   ],
   "source": [
    "df_ACGL['Volume'].mean()"
   ]
  },
  {
   "cell_type": "code",
   "execution_count": 52,
   "metadata": {},
   "outputs": [
    {
     "data": {
      "text/plain": [
       "5236099.891540131"
      ]
     },
     "execution_count": 52,
     "metadata": {},
     "output_type": "execute_result"
    }
   ],
   "source": [
    "df_DOW['Volume'].mean()"
   ]
  },
  {
   "cell_type": "code",
   "execution_count": 53,
   "metadata": {},
   "outputs": [
    {
     "data": {
      "text/plain": [
       "885736.7752184273"
      ]
     },
     "execution_count": 53,
     "metadata": {},
     "output_type": "execute_result"
    }
   ],
   "source": [
    "df_EXR['Volume'].mean()"
   ]
  },
  {
   "cell_type": "code",
   "execution_count": 54,
   "metadata": {},
   "outputs": [
    {
     "data": {
      "text/plain": [
       "4490314.535345512"
      ]
     },
     "execution_count": 54,
     "metadata": {},
     "output_type": "execute_result"
    }
   ],
   "source": [
    "df_TMUS['Volume'].mean()"
   ]
  },
  {
   "cell_type": "code",
   "execution_count": 55,
   "metadata": {},
   "outputs": [
    {
     "data": {
      "text/plain": [
       "3485972.9944400317"
      ]
     },
     "execution_count": 55,
     "metadata": {},
     "output_type": "execute_result"
    }
   ],
   "source": [
    "df_UNP['Volume'].mean()"
   ]
  },
  {
   "cell_type": "markdown",
   "metadata": {},
   "source": [
    "Number 2"
   ]
  },
  {
   "cell_type": "code",
   "execution_count": 57,
   "metadata": {},
   "outputs": [],
   "source": [
    "url = 'https://ies-python-midterm.s3.eu-central-1.amazonaws.com/companies/companies_no_subindustry.csv'\n",
    "df = pd.read_csv(url)"
   ]
  },
  {
   "cell_type": "code",
   "execution_count": 58,
   "metadata": {},
   "outputs": [
    {
     "data": {
      "text/html": [
       "<div>\n",
       "<style scoped>\n",
       "    .dataframe tbody tr th:only-of-type {\n",
       "        vertical-align: middle;\n",
       "    }\n",
       "\n",
       "    .dataframe tbody tr th {\n",
       "        vertical-align: top;\n",
       "    }\n",
       "\n",
       "    .dataframe thead th {\n",
       "        text-align: right;\n",
       "    }\n",
       "</style>\n",
       "<table border=\"1\" class=\"dataframe\">\n",
       "  <thead>\n",
       "    <tr style=\"text-align: right;\">\n",
       "      <th></th>\n",
       "      <th>Symbol</th>\n",
       "      <th>Security</th>\n",
       "      <th>GICS_Sector</th>\n",
       "      <th>hq</th>\n",
       "      <th>included</th>\n",
       "      <th>Founded</th>\n",
       "    </tr>\n",
       "  </thead>\n",
       "  <tbody>\n",
       "    <tr>\n",
       "      <th>0</th>\n",
       "      <td>MMM</td>\n",
       "      <td>3M</td>\n",
       "      <td>Industrials</td>\n",
       "      <td>Saint Paul, Minnesota</td>\n",
       "      <td>09.08.1976</td>\n",
       "      <td>1902</td>\n",
       "    </tr>\n",
       "    <tr>\n",
       "      <th>1</th>\n",
       "      <td>AOS</td>\n",
       "      <td>A. O. Smith</td>\n",
       "      <td>Industrials</td>\n",
       "      <td>Milwaukee, Wisconsin</td>\n",
       "      <td>26.07.2017</td>\n",
       "      <td>1916</td>\n",
       "    </tr>\n",
       "    <tr>\n",
       "      <th>2</th>\n",
       "      <td>ABT</td>\n",
       "      <td>Abbott</td>\n",
       "      <td>Health Care</td>\n",
       "      <td>North Chicago, Illinois</td>\n",
       "      <td>31.03.1964</td>\n",
       "      <td>1888</td>\n",
       "    </tr>\n",
       "    <tr>\n",
       "      <th>3</th>\n",
       "      <td>ABBV</td>\n",
       "      <td>AbbVie</td>\n",
       "      <td>Health Care</td>\n",
       "      <td>North Chicago, Illinois</td>\n",
       "      <td>31.12.2012</td>\n",
       "      <td>2013 (1888)</td>\n",
       "    </tr>\n",
       "    <tr>\n",
       "      <th>4</th>\n",
       "      <td>ABMD</td>\n",
       "      <td>Abiomed</td>\n",
       "      <td>Health Care</td>\n",
       "      <td>Danvers, Massachusetts</td>\n",
       "      <td>31.05.2018</td>\n",
       "      <td>1981</td>\n",
       "    </tr>\n",
       "    <tr>\n",
       "      <th>...</th>\n",
       "      <td>...</td>\n",
       "      <td>...</td>\n",
       "      <td>...</td>\n",
       "      <td>...</td>\n",
       "      <td>...</td>\n",
       "      <td>...</td>\n",
       "    </tr>\n",
       "    <tr>\n",
       "      <th>498</th>\n",
       "      <td>YUM</td>\n",
       "      <td>Yum! Brands</td>\n",
       "      <td>Consumer Discretionary</td>\n",
       "      <td>Louisville, Kentucky</td>\n",
       "      <td>06.10.1997</td>\n",
       "      <td>1997</td>\n",
       "    </tr>\n",
       "    <tr>\n",
       "      <th>499</th>\n",
       "      <td>ZBRA</td>\n",
       "      <td>Zebra Technologies</td>\n",
       "      <td>Information Technology</td>\n",
       "      <td>Lincolnshire, Illinois</td>\n",
       "      <td>23.12.2019</td>\n",
       "      <td>1969</td>\n",
       "    </tr>\n",
       "    <tr>\n",
       "      <th>500</th>\n",
       "      <td>ZBH</td>\n",
       "      <td>Zimmer Biomet</td>\n",
       "      <td>Health Care</td>\n",
       "      <td>Warsaw, Indiana</td>\n",
       "      <td>07.08.2001</td>\n",
       "      <td>1927</td>\n",
       "    </tr>\n",
       "    <tr>\n",
       "      <th>501</th>\n",
       "      <td>ZION</td>\n",
       "      <td>Zions Bancorporation</td>\n",
       "      <td>Financials</td>\n",
       "      <td>Salt Lake City, Utah</td>\n",
       "      <td>22.06.2001</td>\n",
       "      <td>1873</td>\n",
       "    </tr>\n",
       "    <tr>\n",
       "      <th>502</th>\n",
       "      <td>ZTS</td>\n",
       "      <td>Zoetis</td>\n",
       "      <td>Health Care</td>\n",
       "      <td>Parsippany, New Jersey</td>\n",
       "      <td>21.06.2013</td>\n",
       "      <td>1952</td>\n",
       "    </tr>\n",
       "  </tbody>\n",
       "</table>\n",
       "<p>503 rows × 6 columns</p>\n",
       "</div>"
      ],
      "text/plain": [
       "    Symbol              Security             GICS_Sector  \\\n",
       "0      MMM                    3M             Industrials   \n",
       "1      AOS           A. O. Smith             Industrials   \n",
       "2      ABT                Abbott             Health Care   \n",
       "3     ABBV                AbbVie             Health Care   \n",
       "4     ABMD               Abiomed             Health Care   \n",
       "..     ...                   ...                     ...   \n",
       "498    YUM           Yum! Brands  Consumer Discretionary   \n",
       "499   ZBRA    Zebra Technologies  Information Technology   \n",
       "500    ZBH         Zimmer Biomet             Health Care   \n",
       "501   ZION  Zions Bancorporation              Financials   \n",
       "502    ZTS                Zoetis             Health Care   \n",
       "\n",
       "                          hq    included      Founded  \n",
       "0      Saint Paul, Minnesota  09.08.1976         1902  \n",
       "1       Milwaukee, Wisconsin  26.07.2017         1916  \n",
       "2    North Chicago, Illinois  31.03.1964         1888  \n",
       "3    North Chicago, Illinois  31.12.2012  2013 (1888)  \n",
       "4     Danvers, Massachusetts  31.05.2018         1981  \n",
       "..                       ...         ...          ...  \n",
       "498     Louisville, Kentucky  06.10.1997         1997  \n",
       "499   Lincolnshire, Illinois  23.12.2019         1969  \n",
       "500          Warsaw, Indiana  07.08.2001         1927  \n",
       "501     Salt Lake City, Utah  22.06.2001         1873  \n",
       "502   Parsippany, New Jersey  21.06.2013         1952  \n",
       "\n",
       "[503 rows x 6 columns]"
      ]
     },
     "execution_count": 58,
     "metadata": {},
     "output_type": "execute_result"
    }
   ],
   "source": [
    "df"
   ]
  },
  {
   "cell_type": "code",
   "execution_count": 59,
   "metadata": {},
   "outputs": [
    {
     "data": {
      "text/plain": [
       "Symbol          0\n",
       "Security        0\n",
       "GICS_Sector     0\n",
       "hq              0\n",
       "included       45\n",
       "Founded         0\n",
       "dtype: int64"
      ]
     },
     "execution_count": 59,
     "metadata": {},
     "output_type": "execute_result"
    }
   ],
   "source": [
    "df.isnull().sum()"
   ]
  },
  {
   "cell_type": "markdown",
   "metadata": {},
   "source": [
    "45 companies are not included"
   ]
  },
  {
   "cell_type": "code",
   "execution_count": 60,
   "metadata": {},
   "outputs": [],
   "source": [
    "comp_without_miss_val = [col for col in df.columns if df[col].isna().sum()==0]"
   ]
  },
  {
   "cell_type": "code",
   "execution_count": 62,
   "metadata": {},
   "outputs": [
    {
     "data": {
      "text/plain": [
       "'2022'"
      ]
     },
     "execution_count": 62,
     "metadata": {},
     "output_type": "execute_result"
    }
   ],
   "source": [
    "df['Founded'].max()"
   ]
  },
  {
   "cell_type": "code",
   "execution_count": 63,
   "metadata": {},
   "outputs": [
    {
     "data": {
      "text/plain": [
       "'1784'"
      ]
     },
     "execution_count": 63,
     "metadata": {},
     "output_type": "execute_result"
    }
   ],
   "source": [
    "df['Founded'].min()"
   ]
  },
  {
   "cell_type": "code",
   "execution_count": null,
   "metadata": {},
   "outputs": [],
   "source": []
  }
 ],
 "metadata": {
  "kernelspec": {
   "display_name": "Python 3",
   "language": "python",
   "name": "python3"
  },
  "language_info": {
   "codemirror_mode": {
    "name": "ipython",
    "version": 3
   },
   "file_extension": ".py",
   "mimetype": "text/x-python",
   "name": "python",
   "nbconvert_exporter": "python",
   "pygments_lexer": "ipython3",
   "version": "3.12.0"
  }
 },
 "nbformat": 4,
 "nbformat_minor": 2
}
